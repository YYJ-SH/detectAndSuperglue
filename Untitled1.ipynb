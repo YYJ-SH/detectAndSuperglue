{
 "cells": [
  {
   "cell_type": "code",
   "execution_count": 3,
   "id": "e0a12ee2",
   "metadata": {
    "ExecuteTime": {
     "end_time": "2023-01-17T04:00:33.777390Z",
     "start_time": "2023-01-17T04:00:25.102259Z"
    }
   },
   "outputs": [],
   "source": [
    "import tkinter as tk\n",
    "import random\n",
    "\n",
    "root = tk.Tk()\n",
    "root.title(\"Rainbow Wheel\")\n",
    "\n",
    "# Create a canvas to draw the wheel\n",
    "canvas = tk.Canvas(root, width=200, height=200)\n",
    "canvas.pack()\n",
    "\n",
    "# Draw the wheel with rainbow colors\n",
    "canvas.create_arc(10, 10, 190, 190, start=0, extent=60, fill=\"red\")\n",
    "canvas.create_arc(10, 10, 190, 190, start=60, extent=60, fill=\"orange\", text=\"optionss\")\n",
    "canvas.create_arc(10, 10, 190, 190, start=120, extent=60, fill=\"yellow\")\n",
    "canvas.create_arc(10, 10, 190, 190, start=180, extent=60, fill=\"green\")\n",
    "canvas.create_arc(10, 10, 190, 190, start=240, extent=60, fill=\"blue\")\n",
    "canvas.create_arc(10, 10, 190, 190, start=300, extent=60, fill=\"purple\")\n",
    "\n",
    "# Create a button to spin the wheel\n",
    "spin_button = tk.Button(root, text=\"Spin\", command=spin_wheel)\n",
    "spin_button.pack()\n",
    "\n",
    "# Create a label to display the result\n",
    "result = tk.Label(root)\n",
    "result.pack()\n",
    "\n",
    "root.mainloop()\n"
   ]
  },
  {
   "cell_type": "code",
   "execution_count": 4,
   "id": "77b975f4",
   "metadata": {
    "ExecuteTime": {
     "end_time": "2023-01-17T04:02:07.196909Z",
     "start_time": "2023-01-17T04:01:53.796181Z"
    }
   },
   "outputs": [],
   "source": [
    "import tkinter as tk\n",
    "import random\n",
    "\n",
    "def spin_wheel():\n",
    "    \"\"\"Spin the wheel and select a random option.\"\"\"\n",
    "    global angle\n",
    "    angle += 30\n",
    "    canvas.delete(\"all\")\n",
    "    draw_wheel(angle)\n",
    "    canvas.after(100, spin_wheel)\n",
    "\n",
    "def draw_wheel(angle):\n",
    "    \"\"\"Draw the wheel with rainbow colors\"\"\"\n",
    "    canvas.create_arc(10, 10, 190, 190, start=angle, extent=60, fill=\"red\")\n",
    "    canvas.create_arc(10, 10, 190, 190, start=angle+60, extent=60, fill=\"orange\")\n",
    "    canvas.create_arc(10, 10, 190, 190, start=angle+120, extent=60, fill=\"yellow\")\n",
    "    canvas.create_arc(10, 10, 190, 190, start=angle+180, extent=60, fill=\"green\")\n",
    "    canvas.create_arc(10, 10, 190, 190, start=angle+240, extent=60, fill=\"blue\")\n",
    "    canvas.create_arc(10, 10, 190, 190, start=angle+300, extent=60, fill=\"purple\")\n",
    "    result.config(text=\"spin\")\n",
    "\n",
    "root = tk.Tk()\n",
    "root.title(\"Rainbow Wheel\")\n",
    "angle = 0\n",
    "\n",
    "# Create a canvas to draw the wheel\n",
    "canvas = tk.Canvas(root, width=200, height=200)\n",
    "canvas.pack()\n",
    "\n",
    "# Create a button to spin the wheel\n",
    "spin_button = tk.Button(root, text=\"Spin\", command=spin_wheel)\n",
    "spin_button.pack()\n",
    "\n",
    "# Create a label to display the result\n",
    "result = tk.Label(root)\n",
    "result.pack()\n",
    "\n",
    "draw_wheel(angle)\n",
    "root.mainloop()\n"
   ]
  },
  {
   "cell_type": "code",
   "execution_count": null,
   "id": "5e352861",
   "metadata": {},
   "outputs": [],
   "source": []
  }
 ],
 "metadata": {
  "kernelspec": {
   "display_name": "Python 3 (ipykernel)",
   "language": "python",
   "name": "python3"
  },
  "language_info": {
   "codemirror_mode": {
    "name": "ipython",
    "version": 3
   },
   "file_extension": ".py",
   "mimetype": "text/x-python",
   "name": "python",
   "nbconvert_exporter": "python",
   "pygments_lexer": "ipython3",
   "version": "3.9.15"
  }
 },
 "nbformat": 4,
 "nbformat_minor": 5
}
