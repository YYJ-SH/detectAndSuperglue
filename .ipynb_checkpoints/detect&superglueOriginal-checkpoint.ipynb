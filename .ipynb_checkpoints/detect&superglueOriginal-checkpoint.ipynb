{
 "cells": [
  {
   "cell_type": "code",
   "execution_count": 1,
   "id": "e5325b85",
   "metadata": {
    "ExecuteTime": {
     "end_time": "2023-01-10T01:12:21.228909Z",
     "start_time": "2023-01-10T01:12:17.870337Z"
    }
   },
   "outputs": [
    {
     "name": "stderr",
     "output_type": "stream",
     "text": [
      "C:\\Users\\gbuln\\anaconda3\\envs\\luna\\lib\\site-packages\\tqdm\\auto.py:22: TqdmWarning: IProgress not found. Please update jupyter and ipywidgets. See https://ipywidgets.readthedocs.io/en/stable/user_install.html\n",
      "  from .autonotebook import tqdm as notebook_tqdm\n"
     ]
    }
   ],
   "source": [
    "import detect\n",
    "import shutil\n",
    "import cv2\n",
    "import numpy as np\n",
    "import os\n",
    "import pymongo"
   ]
  },
  {
   "cell_type": "code",
   "execution_count": 3,
   "id": "4476be72",
   "metadata": {
    "ExecuteTime": {
     "end_time": "2023-01-10T01:12:40.406261Z",
     "start_time": "2023-01-10T01:12:40.384577Z"
    }
   },
   "outputs": [],
   "source": [
    "client = pymongo.MongoClient(\"mongodb://localhost:27017/\")\n",
    "db = client['Yeji']\n",
    "collection3 = db['Resident']\n"
   ]
  },
  {
   "cell_type": "code",
   "execution_count": null,
   "id": "06936b39",
   "metadata": {
    "ExecuteTime": {
     "end_time": "2023-01-09T12:28:50.030427Z",
     "start_time": "2023-01-09T12:28:49.991996Z"
    }
   },
   "outputs": [],
   "source": []
  },
  {
   "cell_type": "code",
   "execution_count": 14,
   "id": "9bd20b80",
   "metadata": {
    "ExecuteTime": {
     "end_time": "2023-01-09T12:31:06.425001Z",
     "start_time": "2023-01-09T12:31:06.405363Z"
    }
   },
   "outputs": [
    {
     "data": {
      "text/plain": [
       "<pymongo.results.InsertOneResult at 0x248ed688af0>"
      ]
     },
     "execution_count": 14,
     "metadata": {},
     "output_type": "execute_result"
    }
   ],
   "source": [
    "# 정기권 차량1등록\n",
    "document1 = {\n",
    "    'carnum': '02나4287',\n",
    "    'registered': True,\n",
    "    'imageURL': 'C:\\\\Users\\\\gbuln\\\\Downloads\\\\fakenumber\\\\02나4287_in_473947e7-3540-4169-98fa-7f7743ae3ed1.jpg'\n",
    "}\n",
    "collection3.insert_one(document1)"
   ]
  },
  {
   "cell_type": "code",
   "execution_count": 15,
   "id": "47df66b5",
   "metadata": {
    "ExecuteTime": {
     "end_time": "2023-01-09T12:31:07.057226Z",
     "start_time": "2023-01-09T12:31:07.044166Z"
    }
   },
   "outputs": [
    {
     "data": {
      "text/plain": [
       "<pymongo.results.InsertOneResult at 0x248ed3b9970>"
      ]
     },
     "execution_count": 15,
     "metadata": {},
     "output_type": "execute_result"
    }
   ],
   "source": [
    "#정기권차량2등록\n",
    "document2 = {\n",
    "    'carnum': '01누0599',\n",
    "    'registered': True,\n",
    "    'imageURL': 'C:\\\\Users\\\\gbuln\\\\Downloads\\\\fakenumber\\\\01누0599_in_43f75ed2-77a7-446c-b4c3-314f73940400.jpg'\n",
    "}\n",
    "collection3.insert_one(document2)"
   ]
  },
  {
   "cell_type": "code",
   "execution_count": 4,
   "id": "38b030cf",
   "metadata": {
    "ExecuteTime": {
     "end_time": "2023-01-10T01:14:21.298601Z",
     "start_time": "2023-01-10T01:14:21.285579Z"
    }
   },
   "outputs": [],
   "source": [
    "#입출차기록 db에 삽입\n",
    "# collection = db.create_collection('InAndOut')\n",
    "collection = db['InAndOut']"
   ]
  },
  {
   "cell_type": "code",
   "execution_count": 30,
   "id": "6e9e9396",
   "metadata": {
    "ExecuteTime": {
     "end_time": "2023-01-10T01:24:52.208781Z",
     "start_time": "2023-01-10T01:24:52.194729Z"
    }
   },
   "outputs": [],
   "source": [
    "# 정상차량 등장()\n",
    "\n",
    "document3 = {\n",
    "    'accessid' : 3,\n",
    "    'intime': '2023-09-27 23:22:22',\n",
    "    'outtime' : '',\n",
    "    'carnum': '01누0599',\n",
    "    'faked': False,\n",
    "    'imageURL': 'C:\\\\Users\\\\gbuln\\\\Downloads\\\\fakenumber\\\\01누0599_in_9d6eda83-f0aa-4d55-9595-34e1ff43f4c1.jpg'\n",
    "}"
   ]
  },
  {
   "cell_type": "code",
   "execution_count": 13,
   "id": "1266e966",
   "metadata": {
    "ExecuteTime": {
     "end_time": "2023-01-10T01:20:50.789921Z",
     "start_time": "2023-01-10T01:20:50.766920Z"
    }
   },
   "outputs": [
    {
     "data": {
      "text/plain": [
       "<pymongo.results.InsertOneResult at 0x206645576d0>"
      ]
     },
     "execution_count": 13,
     "metadata": {},
     "output_type": "execute_result"
    }
   ],
   "source": [
    "#입출차기록에 넣어준다.\n",
    "collection = db[\"InAndOut\"]\n",
    "collection.insert_one(document3)"
   ]
  },
  {
   "cell_type": "code",
   "execution_count": 31,
   "id": "a89b0a85",
   "metadata": {
    "ExecuteTime": {
     "end_time": "2023-01-10T01:24:55.278090Z",
     "start_time": "2023-01-10T01:24:55.228003Z"
    }
   },
   "outputs": [
    {
     "name": "stdout",
     "output_type": "stream",
     "text": [
      "C:\\Users\\gbuln\\Downloads\\fakenumber\\01누0599_in_43f75ed2-77a7-446c-b4c3-314f73940400.jpg\n"
     ]
    }
   ],
   "source": [
    "import pymongo\n",
    "\n",
    "# Connect to the MongoDB server\n",
    "client = pymongo.MongoClient(\"mongodb://localhost:27017/\")\n",
    "db = client['Yeji']\n",
    "# Get the Resident collection\n",
    "collection = db[\"Resident\"]\n",
    "\n",
    "# Find the document with carnum \"01누0599\" 01누0599인 차량을 찾는다.\n",
    "cursor = collection.find({\"carnum\": document3['carnum']})\n",
    "\n",
    "# Print the imageURL field of the document\n",
    "for document in cursor:\n",
    "    print(document[\"imageURL\"])\n",
    "    original_path = document[\"imageURL\"] #원본 사진의 url 주소\n"
   ]
  },
  {
   "cell_type": "code",
   "execution_count": 32,
   "id": "c58549c2",
   "metadata": {
    "ExecuteTime": {
     "end_time": "2023-01-10T01:24:55.926605Z",
     "start_time": "2023-01-10T01:24:55.921622Z"
    }
   },
   "outputs": [],
   "source": [
    "# source_path=original_path"
   ]
  },
  {
   "cell_type": "code",
   "execution_count": 33,
   "id": "cfc93762",
   "metadata": {
    "ExecuteTime": {
     "end_time": "2023-01-10T01:24:56.811910Z",
     "start_time": "2023-01-10T01:24:56.799888Z"
    }
   },
   "outputs": [],
   "source": [
    "save_path = f\"C:\\\\Users\\\\gbuln\\\\Downloads\\\\{document3['carnum']}\" #차량번호를 이름으로 한 폴더를 만들어준다.\n",
    "if not os.path.exists(save_path):\n",
    "    os.makedirs(save_path)"
   ]
  },
  {
   "cell_type": "code",
   "execution_count": 34,
   "id": "6ae54844",
   "metadata": {
    "ExecuteTime": {
     "end_time": "2023-01-10T01:24:57.431316Z",
     "start_time": "2023-01-10T01:24:57.409398Z"
    }
   },
   "outputs": [
    {
     "data": {
      "text/plain": [
       "'C:\\\\Users\\\\gbuln\\\\Downloads\\\\01누0599\\\\01누0599_in_9d6eda83-f0aa-4d55-9595-34e1ff43f4c1.jpg'"
      ]
     },
     "execution_count": 34,
     "metadata": {},
     "output_type": "execute_result"
    }
   ],
   "source": [
    "\n",
    "\n",
    "#  헤드라이트만 크롭하기 위해 입출차내역 사진부터 옮겨주고,\n",
    "src = document3[\"imageURL\"]\n",
    "\n",
    "# The destination directory for the copy\n",
    "dst = save_path\n",
    "\n",
    "# Copy the file\n",
    "shutil.copy(src, dst)\n"
   ]
  },
  {
   "cell_type": "code",
   "execution_count": 35,
   "id": "fdcc6716",
   "metadata": {
    "ExecuteTime": {
     "end_time": "2023-01-10T01:24:58.501338Z",
     "start_time": "2023-01-10T01:24:58.483166Z"
    }
   },
   "outputs": [
    {
     "data": {
      "text/plain": [
       "'C:\\\\Users\\\\gbuln\\\\Downloads\\\\01누0599\\\\01누0599_in_43f75ed2-77a7-446c-b4c3-314f73940400.jpg'"
      ]
     },
     "execution_count": 35,
     "metadata": {},
     "output_type": "execute_result"
    }
   ],
   "source": [
    "\n",
    "# 헤드라이트 크롭을 위해 원본의 사진도 옮겨준다(나중에 미리 크롭해뒀다가 db에 저장해두는게 빠를지도?)\n",
    "src = original_path\n",
    "\n",
    "# The destination directory for the copy\n",
    "dst = save_path\n",
    "\n",
    "# Copy the file\n",
    "shutil.copy(src, dst)"
   ]
  },
  {
   "cell_type": "code",
   "execution_count": 36,
   "id": "e4adb134",
   "metadata": {
    "ExecuteTime": {
     "end_time": "2023-01-10T01:25:00.559352Z",
     "start_time": "2023-01-10T01:24:59.871868Z"
    }
   },
   "outputs": [
    {
     "name": "stderr",
     "output_type": "stream",
     "text": [
      "YOLOv5  v6.1-306-gfbe67e4 Python-3.9.15 torch-1.13.1+cpu CPU\n",
      "\n",
      "Fusing layers... \n",
      "Model summary: 157 layers, 7012822 parameters, 0 gradients\n",
      "image 1/2 C:\\Users\\gbuln\\Downloads\\01누0599\\01누0599_in_43f75ed2-77a7-446c-b4c3-314f73940400.jpg: 480x640 1 headlight, Done. (0.170s)\n",
      "image 2/2 C:\\Users\\gbuln\\Downloads\\01누0599\\01누0599_in_9d6eda83-f0aa-4d55-9595-34e1ff43f4c1.jpg: 480x640 1 headlight, Done. (0.164s)\n",
      "Speed: 0.5ms pre-process, 167.0ms inference, 0.5ms NMS per image at shape (1, 3, 640, 640)\n",
      "Results saved to \u001b[1mruns\\detect\\exp23\u001b[0m\n",
      "2 labels saved to runs\\detect\\exp23\\labels\n"
     ]
    }
   ],
   "source": [
    "#detect 하는 코드\n",
    "detect.run(weights=\".\\\\headlights_v5.pt\", \n",
    "                source=save_path,\n",
    "                conf_thres=0.7,\n",
    "                save_crop=True,\n",
    "                save_txt=True,\n",
    "                save_conf=True)"
   ]
  },
  {
   "cell_type": "code",
   "execution_count": 37,
   "id": "4787d865",
   "metadata": {
    "ExecuteTime": {
     "end_time": "2023-01-10T01:25:39.835938Z",
     "start_time": "2023-01-10T01:25:39.821836Z"
    }
   },
   "outputs": [],
   "source": [
    "# 디렉토리에 있는 jpg 파일명을 한꺼번에 리스트에 추가해 주는 코드 \n",
    "# 파일 이름 확인용으로 그냥 짰다.\n",
    "\n",
    "root_path = '.\\\\runs\\\\detect\\\\exp23\\\\crops\\\\headlight'"
   ]
  },
  {
   "cell_type": "code",
   "execution_count": 38,
   "id": "ec793887",
   "metadata": {
    "ExecuteTime": {
     "end_time": "2023-01-10T01:25:40.378470Z",
     "start_time": "2023-01-10T01:25:40.362406Z"
    }
   },
   "outputs": [
    {
     "name": "stdout",
     "output_type": "stream",
     "text": [
      "['01누0599_in_43f75ed2-77a7-446c-b4c3-314f73940400', '01누0599_in_9d6eda83-f0aa-4d55-9595-34e1ff43f4c1']\n"
     ]
    }
   ],
   "source": [
    "# get a list of all files in the directory\n",
    "files = os.listdir(root_path)\n",
    "\n",
    "# create an empty list to store filenames\n",
    "jpg_filenames = []\n",
    "\n",
    "# iterate over the files\n",
    "for file in files:\n",
    "  # check if the file is a JPG file\n",
    "  if file.endswith('.jpg'):\n",
    "    # remove the '.jpg' from the filename\n",
    "    filename = file[:-4]\n",
    "    # add the filename to the list\n",
    "    jpg_filenames.append(filename)\n",
    "\n",
    "# print the filenames\n",
    "print(jpg_filenames)"
   ]
  },
  {
   "cell_type": "code",
   "execution_count": 39,
   "id": "bbbdfbf1",
   "metadata": {
    "ExecuteTime": {
     "end_time": "2023-01-10T01:25:40.963070Z",
     "start_time": "2023-01-10T01:25:40.951042Z"
    }
   },
   "outputs": [],
   "source": [
    "# 매칭점 찾기 코드는 한글을 못읽어서 죄다 영어로 바꿔줘야 한다. 그 전처리 과정.\n",
    "import os\n",
    "# '-'를 '_'f로 바꿔주는 코드\n",
    "## Directory where the files are located\n",
    "directory = root_path\n",
    "\n",
    "# Get a list of all files in the directory\n",
    "files = os.listdir(directory)\n",
    "\n",
    "# Loop through the files in the directory\n",
    "for file in files:\n",
    "    # Check if the file name contains \"-\"\n",
    "    if \"누\" in file:\n",
    "        # Get the file's old name and new name (with \"-\" replaced with \"_\")\n",
    "        old_name = os.path.join(directory, file)\n",
    "        new_name = os.path.join(directory, file.replace(\"누\", \"nu\"))\n",
    "\n",
    "        # Use the rename function to rename the file\n",
    "        os.rename(old_name, new_name)\n"
   ]
  },
  {
   "cell_type": "code",
   "execution_count": 40,
   "id": "2984f152",
   "metadata": {
    "ExecuteTime": {
     "end_time": "2023-01-10T01:25:44.185199Z",
     "start_time": "2023-01-10T01:25:41.619291Z"
    }
   },
   "outputs": [
    {
     "data": {
      "text/plain": [
       "CompletedProcess(args=['python', './demo_superglue.py', '--input', '.\\\\runs\\\\detect\\\\exp23\\\\crops\\\\headlight', '--output_dir', 'C:\\\\Users\\\\gbuln\\\\Downloads\\\\01누0599', '--resize', '320', '240', '--no_display', '--max_keypoints', '2048', '--nms_radius', '3', '--keypoint_threshold', '0.1', '--match_threshold', '0.3'], returncode=0)"
      ]
     },
     "execution_count": 40,
     "metadata": {},
     "output_type": "execute_result"
    }
   ],
   "source": [
    "# 매칭점 찾는 코드 (서브프로세스를 써서 에러가 났는지 안났는지 잘 모름. 결과물인 matches.txt가 output_dir에 있어야 함)\n",
    "import subprocess\n",
    "\n",
    "input_dir = root_path #사진 저장된 디렉토리(여기서는 욜로의 detect한 path)\n",
    "output_dir = save_path #매칭첨 개수가 저장된 txt가 저장될 폴더(어차피 save_path가 지워지므로 그냥 여기다가 저장했다.)\n",
    "resize = \"320 240\"\n",
    "no_display = True\n",
    "max_keypoints = 2048\n",
    "nms_radius = 3\n",
    "keypoint_threshold = 0.1\n",
    "match_threshold = 0.3\n",
    "\n",
    "command = f\"python ./demo_superglue.py --input {input_dir} --output_dir {output_dir} --resize {resize}\"\n",
    "\n",
    "if no_display:\n",
    "    command += \" --no_display\"\n",
    "\n",
    "command += f\" --max_keypoints {max_keypoints} --nms_radius {nms_radius} --keypoint_threshold {keypoint_threshold} --match_threshold {match_threshold}\"\n",
    "\n",
    "subprocess.run(command.split())"
   ]
  },
  {
   "cell_type": "code",
   "execution_count": 41,
   "id": "49736830",
   "metadata": {
    "ExecuteTime": {
     "end_time": "2023-01-10T01:25:45.560269Z",
     "start_time": "2023-01-10T01:25:45.548242Z"
    }
   },
   "outputs": [],
   "source": [
    "# 에러난것 같으면 아래 코드 주석지우고 돌려보면 된다. 여기서 무슨 에러가 떴는지 잡힘\n",
    "# !python ./demo_superglue.py --input ./runs/detect/exp21/crops/headlight --output_dir beo01 --resize 320 240 --no_display --max_keypoints 2048 --nms_radius 3 --keypoint_threshold 0.1 --match_threshold 0.3"
   ]
  },
  {
   "cell_type": "code",
   "execution_count": 42,
   "id": "75274e51",
   "metadata": {
    "ExecuteTime": {
     "end_time": "2023-01-10T01:25:46.010675Z",
     "start_time": "2023-01-10T01:25:45.999573Z"
    }
   },
   "outputs": [
    {
     "name": "stdout",
     "output_type": "stream",
     "text": [
      "77\n"
     ]
    }
   ],
   "source": [
    "with open(output_dir + '\\\\matches.txt', 'r') as f:\n",
    "    content = f.read()\n",
    "print(content)"
   ]
  },
  {
   "cell_type": "code",
   "execution_count": 43,
   "id": "7f78c8d7",
   "metadata": {
    "ExecuteTime": {
     "end_time": "2023-01-10T01:25:47.773293Z",
     "start_time": "2023-01-10T01:25:47.767240Z"
    }
   },
   "outputs": [],
   "source": [
    "collection = db[\"InAndOut\"]\n",
    "if int(content) < 20:\n",
    "    collection.update_one({\"accessid\": 1}, {\"$set\": {\"faked\": True}})\n",
    "else:\n",
    "    pass"
   ]
  },
  {
   "cell_type": "code",
   "execution_count": 44,
   "id": "1b995b81",
   "metadata": {
    "ExecuteTime": {
     "end_time": "2023-01-10T01:25:50.479884Z",
     "start_time": "2023-01-10T01:25:50.473804Z"
    }
   },
   "outputs": [
    {
     "name": "stdout",
     "output_type": "stream",
     "text": [
      "{'_id': ObjectId('63bcbd728d9eef5f7166dca3'), 'accessid': 3, 'intime': '2023-09-27 23:22:22', 'outtime': '', 'carnum': '01누0599', 'faked': False, 'imageURL': 'C:\\\\Users\\\\gbuln\\\\Downloads\\\\fakenumber\\\\01누0599_in_9d6eda83-f0aa-4d55-9595-34e1ff43f4c1.jpg'}\n"
     ]
    }
   ],
   "source": [
    "\n",
    "cursor = db['InAndOut'].find({\"accessid\": document3['accessid']})\n",
    "for document in cursor:\n",
    "    print(document)"
   ]
  },
  {
   "cell_type": "code",
   "execution_count": 45,
   "id": "55d4a0c1",
   "metadata": {
    "ExecuteTime": {
     "end_time": "2023-01-10T01:25:52.339627Z",
     "start_time": "2023-01-10T01:25:52.319427Z"
    }
   },
   "outputs": [],
   "source": [
    "shutil.rmtree('.\\\\runs\\\\detect\\\\exp23')\n",
    "shutil.rmtree(save_path)"
   ]
  },
  {
   "cell_type": "code",
   "execution_count": null,
   "id": "33413f7c",
   "metadata": {},
   "outputs": [],
   "source": []
  }
 ],
 "metadata": {
  "kernelspec": {
   "display_name": "Python 3 (ipykernel)",
   "language": "python",
   "name": "python3"
  },
  "language_info": {
   "codemirror_mode": {
    "name": "ipython",
    "version": 3
   },
   "file_extension": ".py",
   "mimetype": "text/x-python",
   "name": "python",
   "nbconvert_exporter": "python",
   "pygments_lexer": "ipython3",
   "version": "3.9.15"
  }
 },
 "nbformat": 4,
 "nbformat_minor": 5
}
