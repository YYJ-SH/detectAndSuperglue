{
 "cells": [
  {
   "cell_type": "code",
   "execution_count": null,
   "id": "009941cd",
   "metadata": {},
   "outputs": [],
   "source": [
    "import boto3\n",
    "\n",
    "access_key = \n",
    "# Create an S3 client\n",
    "s3 = boto3.client('s3', aws_access_key_id=access_key,\n",
    "    aws_secret_access_key=secret_key)\n",
    "\n",
    "# List the names of all the S3 buckets in your account\n",
    "response = s3.list_buckets()\n",
    "buckets = [bucket['Name'] for bucket in response['Buckets']]\n",
    "print(\"Bucket Names: \",buckets)\n"
   ]
  }
 ],
 "metadata": {
  "kernelspec": {
   "display_name": "Python 3 (ipykernel)",
   "language": "python",
   "name": "python3"
  },
  "language_info": {
   "codemirror_mode": {
    "name": "ipython",
    "version": 3
   },
   "file_extension": ".py",
   "mimetype": "text/x-python",
   "name": "python",
   "nbconvert_exporter": "python",
   "pygments_lexer": "ipython3",
   "version": "3.9.15"
  }
 },
 "nbformat": 4,
 "nbformat_minor": 5
}
