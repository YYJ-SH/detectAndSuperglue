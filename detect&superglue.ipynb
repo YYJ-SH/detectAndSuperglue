{
 "cells": [
  {
   "cell_type": "code",
   "execution_count": 1,
   "id": "e5325b85",
   "metadata": {
    "ExecuteTime": {
     "end_time": "2023-01-10T07:50:28.410998Z",
     "start_time": "2023-01-10T07:50:25.098925Z"
    }
   },
   "outputs": [
    {
     "name": "stderr",
     "output_type": "stream",
     "text": [
      "C:\\Users\\gbuln\\anaconda3\\envs\\luna\\lib\\site-packages\\tqdm\\auto.py:22: TqdmWarning: IProgress not found. Please update jupyter and ipywidgets. See https://ipywidgets.readthedocs.io/en/stable/user_install.html\n",
      "  from .autonotebook import tqdm as notebook_tqdm\n"
     ]
    }
   ],
   "source": [
    "import detect\n",
    "import shutil\n",
    "import cv2\n",
    "import numpy as np\n",
    "import os\n",
    "import pymongo"
   ]
  },
  {
   "cell_type": "code",
   "execution_count": 2,
   "id": "4476be72",
   "metadata": {
    "ExecuteTime": {
     "end_time": "2023-01-10T07:50:28.426636Z",
     "start_time": "2023-01-10T07:50:28.413489Z"
    }
   },
   "outputs": [],
   "source": [
    "client = pymongo.MongoClient(\"mongodb://localhost:27017/\")\n",
    "db = client['Yeji']\n",
    "#collection3 = db.create_collection('Resident')\n"
   ]
  },
  {
   "cell_type": "code",
   "execution_count": null,
   "id": "06936b39",
   "metadata": {
    "ExecuteTime": {
     "end_time": "2023-01-09T12:28:50.030427Z",
     "start_time": "2023-01-09T12:28:49.991996Z"
    }
   },
   "outputs": [],
   "source": []
  },
  {
   "cell_type": "code",
   "execution_count": 14,
   "id": "9bd20b80",
   "metadata": {
    "ExecuteTime": {
     "end_time": "2023-01-09T12:31:06.425001Z",
     "start_time": "2023-01-09T12:31:06.405363Z"
    }
   },
   "outputs": [
    {
     "data": {
      "text/plain": [
       "<pymongo.results.InsertOneResult at 0x248ed688af0>"
      ]
     },
     "execution_count": 14,
     "metadata": {},
     "output_type": "execute_result"
    }
   ],
   "source": [
    "# 정기권 차량1등록\n",
    "document1 = {\n",
    "    'carnum': '02나4287',\n",
    "    'registered': True,\n",
    "    'imageURL': 'C:\\\\Users\\\\gbuln\\\\Downloads\\\\fakenumber\\\\02나4287_in_473947e7-3540-4169-98fa-7f7743ae3ed1.jpg'\n",
    "}\n",
    "collection3.insert_one(document1)"
   ]
  },
  {
   "cell_type": "code",
   "execution_count": 3,
   "id": "47df66b5",
   "metadata": {
    "ExecuteTime": {
     "end_time": "2023-01-10T07:50:29.621705Z",
     "start_time": "2023-01-10T07:50:29.501237Z"
    }
   },
   "outputs": [
    {
     "ename": "NameError",
     "evalue": "name 'collection3' is not defined",
     "output_type": "error",
     "traceback": [
      "\u001b[1;31m---------------------------------------------------------------------------\u001b[0m",
      "\u001b[1;31mNameError\u001b[0m                                 Traceback (most recent call last)",
      "Cell \u001b[1;32mIn[3], line 7\u001b[0m\n\u001b[0;32m      1\u001b[0m \u001b[38;5;66;03m#정기권차량2등록\u001b[39;00m\n\u001b[0;32m      2\u001b[0m document2 \u001b[38;5;241m=\u001b[39m {\n\u001b[0;32m      3\u001b[0m     \u001b[38;5;124m'\u001b[39m\u001b[38;5;124mcarnum\u001b[39m\u001b[38;5;124m'\u001b[39m: \u001b[38;5;124m'\u001b[39m\u001b[38;5;124m01누0599\u001b[39m\u001b[38;5;124m'\u001b[39m,\n\u001b[0;32m      4\u001b[0m     \u001b[38;5;124m'\u001b[39m\u001b[38;5;124mregistered\u001b[39m\u001b[38;5;124m'\u001b[39m: \u001b[38;5;28;01mTrue\u001b[39;00m,\n\u001b[0;32m      5\u001b[0m     \u001b[38;5;124m'\u001b[39m\u001b[38;5;124mimageURL\u001b[39m\u001b[38;5;124m'\u001b[39m: \u001b[38;5;124m'\u001b[39m\u001b[38;5;124mC:\u001b[39m\u001b[38;5;130;01m\\\\\u001b[39;00m\u001b[38;5;124mUsers\u001b[39m\u001b[38;5;130;01m\\\\\u001b[39;00m\u001b[38;5;124mgbuln\u001b[39m\u001b[38;5;130;01m\\\\\u001b[39;00m\u001b[38;5;124mDownloads\u001b[39m\u001b[38;5;130;01m\\\\\u001b[39;00m\u001b[38;5;124mfakenumber\u001b[39m\u001b[38;5;130;01m\\\\\u001b[39;00m\u001b[38;5;124m01누0599_in_43f75ed2-77a7-446c-b4c3-314f73940400.jpg\u001b[39m\u001b[38;5;124m'\u001b[39m\n\u001b[0;32m      6\u001b[0m }\n\u001b[1;32m----> 7\u001b[0m \u001b[43mcollection3\u001b[49m\u001b[38;5;241m.\u001b[39minsert_one(document2)\n",
      "\u001b[1;31mNameError\u001b[0m: name 'collection3' is not defined"
     ]
    }
   ],
   "source": [
    "#정기권차량2등록\n",
    "document2 = {\n",
    "    'carnum': '01누0599',\n",
    "    'registered': True,\n",
    "    'imageURL': 'C:\\\\Users\\\\gbuln\\\\Downloads\\\\fakenumber\\\\01누0599_in_43f75ed2-77a7-446c-b4c3-314f73940400.jpg'\n",
    "}\n",
    "collection3.insert_one(document2)"
   ]
  },
  {
   "cell_type": "code",
   "execution_count": 4,
   "id": "38b030cf",
   "metadata": {
    "ExecuteTime": {
     "end_time": "2023-01-10T07:50:29.855535Z",
     "start_time": "2023-01-10T07:50:29.725612Z"
    }
   },
   "outputs": [
    {
     "ename": "CollectionInvalid",
     "evalue": "collection InAndOut already exists",
     "output_type": "error",
     "traceback": [
      "\u001b[1;31m---------------------------------------------------------------------------\u001b[0m",
      "\u001b[1;31mCollectionInvalid\u001b[0m                         Traceback (most recent call last)",
      "Cell \u001b[1;32mIn[4], line 2\u001b[0m\n\u001b[0;32m      1\u001b[0m \u001b[38;5;66;03m#입출차기록 db에 삽입\u001b[39;00m\n\u001b[1;32m----> 2\u001b[0m collection \u001b[38;5;241m=\u001b[39m \u001b[43mdb\u001b[49m\u001b[38;5;241;43m.\u001b[39;49m\u001b[43mcreate_collection\u001b[49m\u001b[43m(\u001b[49m\u001b[38;5;124;43m'\u001b[39;49m\u001b[38;5;124;43mInAndOut\u001b[39;49m\u001b[38;5;124;43m'\u001b[39;49m\u001b[43m)\u001b[49m\n",
      "File \u001b[1;32m~\\anaconda3\\envs\\luna\\lib\\site-packages\\pymongo\\_csot.py:105\u001b[0m, in \u001b[0;36mapply.<locals>.csot_wrapper\u001b[1;34m(self, *args, **kwargs)\u001b[0m\n\u001b[0;32m    103\u001b[0m         \u001b[38;5;28;01mwith\u001b[39;00m _TimeoutContext(timeout):\n\u001b[0;32m    104\u001b[0m             \u001b[38;5;28;01mreturn\u001b[39;00m func(\u001b[38;5;28mself\u001b[39m, \u001b[38;5;241m*\u001b[39margs, \u001b[38;5;241m*\u001b[39m\u001b[38;5;241m*\u001b[39mkwargs)\n\u001b[1;32m--> 105\u001b[0m \u001b[38;5;28;01mreturn\u001b[39;00m func(\u001b[38;5;28mself\u001b[39m, \u001b[38;5;241m*\u001b[39margs, \u001b[38;5;241m*\u001b[39m\u001b[38;5;241m*\u001b[39mkwargs)\n",
      "File \u001b[1;32m~\\anaconda3\\envs\\luna\\lib\\site-packages\\pymongo\\database.py:447\u001b[0m, in \u001b[0;36mDatabase.create_collection\u001b[1;34m(self, name, codec_options, read_preference, write_concern, read_concern, session, check_exists, **kwargs)\u001b[0m\n\u001b[0;32m    439\u001b[0m \u001b[38;5;28;01mwith\u001b[39;00m \u001b[38;5;28mself\u001b[39m\u001b[38;5;241m.\u001b[39m__client\u001b[38;5;241m.\u001b[39m_tmp_session(session) \u001b[38;5;28;01mas\u001b[39;00m s:\n\u001b[0;32m    440\u001b[0m     \u001b[38;5;66;03m# Skip this check in a transaction where listCollections is not\u001b[39;00m\n\u001b[0;32m    441\u001b[0m     \u001b[38;5;66;03m# supported.\u001b[39;00m\n\u001b[0;32m    442\u001b[0m     \u001b[38;5;28;01mif\u001b[39;00m (\n\u001b[0;32m    443\u001b[0m         check_exists\n\u001b[0;32m    444\u001b[0m         \u001b[38;5;129;01mand\u001b[39;00m (\u001b[38;5;129;01mnot\u001b[39;00m s \u001b[38;5;129;01mor\u001b[39;00m \u001b[38;5;129;01mnot\u001b[39;00m s\u001b[38;5;241m.\u001b[39min_transaction)\n\u001b[0;32m    445\u001b[0m         \u001b[38;5;129;01mand\u001b[39;00m name \u001b[38;5;129;01min\u001b[39;00m \u001b[38;5;28mself\u001b[39m\u001b[38;5;241m.\u001b[39mlist_collection_names(\u001b[38;5;28mfilter\u001b[39m\u001b[38;5;241m=\u001b[39m{\u001b[38;5;124m\"\u001b[39m\u001b[38;5;124mname\u001b[39m\u001b[38;5;124m\"\u001b[39m: name}, session\u001b[38;5;241m=\u001b[39ms)\n\u001b[0;32m    446\u001b[0m     ):\n\u001b[1;32m--> 447\u001b[0m         \u001b[38;5;28;01mraise\u001b[39;00m CollectionInvalid(\u001b[38;5;124m\"\u001b[39m\u001b[38;5;124mcollection \u001b[39m\u001b[38;5;132;01m%s\u001b[39;00m\u001b[38;5;124m already exists\u001b[39m\u001b[38;5;124m\"\u001b[39m \u001b[38;5;241m%\u001b[39m name)\n\u001b[0;32m    448\u001b[0m     \u001b[38;5;28;01mreturn\u001b[39;00m Collection(\n\u001b[0;32m    449\u001b[0m         \u001b[38;5;28mself\u001b[39m,\n\u001b[0;32m    450\u001b[0m         name,\n\u001b[1;32m   (...)\u001b[0m\n\u001b[0;32m    457\u001b[0m         \u001b[38;5;241m*\u001b[39m\u001b[38;5;241m*\u001b[39mkwargs,\n\u001b[0;32m    458\u001b[0m     )\n",
      "\u001b[1;31mCollectionInvalid\u001b[0m: collection InAndOut already exists"
     ]
    }
   ],
   "source": [
    "#입출차기록 db에 삽입\n",
    "collection = db.create_collection('InAndOut')"
   ]
  },
  {
   "cell_type": "code",
   "execution_count": 6,
   "id": "1266e966",
   "metadata": {
    "ExecuteTime": {
     "end_time": "2023-01-10T07:50:34.537858Z",
     "start_time": "2023-01-10T07:50:34.524724Z"
    }
   },
   "outputs": [
    {
     "data": {
      "text/plain": [
       "<pymongo.results.InsertOneResult at 0x2e4eb934e20>"
      ]
     },
     "execution_count": 6,
     "metadata": {},
     "output_type": "execute_result"
    }
   ],
   "source": [
    "# 위조차량 등장()\n",
    "\n",
    "document3 = {\n",
    "    'accessid' : 6,\n",
    "    'intime': '2023-09-27 22:22:22',\n",
    "    'outtime' : '',\n",
    "    'carnum': '01누0599',\n",
    "    'faked': False,\n",
    "    'imageURL': 'C:\\\\Users\\\\gbuln\\\\Downloads\\\\fakenumber\\\\01버0399(01누-0599).jpg'\n",
    "}\n",
    "#입출차기록에 넣어준다.\n",
    "collection = db[\"InAndOut\"]\n",
    "collection.insert_one(document3)"
   ]
  },
  {
   "cell_type": "code",
   "execution_count": 7,
   "id": "a89b0a85",
   "metadata": {
    "ExecuteTime": {
     "end_time": "2023-01-10T07:50:34.769418Z",
     "start_time": "2023-01-10T07:50:34.732592Z"
    }
   },
   "outputs": [
    {
     "name": "stdout",
     "output_type": "stream",
     "text": [
      "C:\\Users\\gbuln\\Downloads\\fakenumber\\01누0599_in_43f75ed2-77a7-446c-b4c3-314f73940400.jpg\n"
     ]
    }
   ],
   "source": [
    "import pymongo\n",
    "\n",
    "# Connect to the MongoDB server\n",
    "client = pymongo.MongoClient(\"mongodb://localhost:27017/\")\n",
    "db = client['Yeji']\n",
    "# Get the Resident collection\n",
    "collection = db[\"Resident\"]\n",
    "\n",
    "# Find the document with carnum \"01누0599\" 01누0599인 차량을 찾는다.\n",
    "cursor = collection.find({\"carnum\": document3['carnum']})\n",
    "\n",
    "# Print the imageURL field of the document\n",
    "for document in cursor:\n",
    "    print(document[\"imageURL\"])\n",
    "    original_path = document[\"imageURL\"] #원본 사진의 url 주소\n"
   ]
  },
  {
   "cell_type": "code",
   "execution_count": 8,
   "id": "c58549c2",
   "metadata": {
    "ExecuteTime": {
     "end_time": "2023-01-10T07:50:34.957419Z",
     "start_time": "2023-01-10T07:50:34.942427Z"
    }
   },
   "outputs": [],
   "source": [
    "# source_path=original_path"
   ]
  },
  {
   "cell_type": "code",
   "execution_count": 9,
   "id": "cfc93762",
   "metadata": {
    "ExecuteTime": {
     "end_time": "2023-01-10T07:50:35.202720Z",
     "start_time": "2023-01-10T07:50:35.185561Z"
    }
   },
   "outputs": [],
   "source": [
    "save_path = f\"C:\\\\Users\\\\gbuln\\\\Downloads\\\\{document3['carnum']}\" #차량번호를 이름으로 한 폴더를 만들어준다.\n",
    "if not os.path.exists(save_path):\n",
    "    os.makedirs(save_path)"
   ]
  },
  {
   "cell_type": "code",
   "execution_count": 10,
   "id": "6ae54844",
   "metadata": {
    "ExecuteTime": {
     "end_time": "2023-01-10T07:50:35.823403Z",
     "start_time": "2023-01-10T07:50:35.812066Z"
    }
   },
   "outputs": [
    {
     "data": {
      "text/plain": [
       "'C:\\\\Users\\\\gbuln\\\\Downloads\\\\01누0599\\\\01버0399(01누-0599).jpg'"
      ]
     },
     "execution_count": 10,
     "metadata": {},
     "output_type": "execute_result"
    }
   ],
   "source": [
    "\n",
    "\n",
    "#  헤드라이트만 크롭하기 위해 입출차내역 사진부터 옮겨주고,\n",
    "src = document3[\"imageURL\"]\n",
    "\n",
    "# The destination directory for the copy\n",
    "dst = save_path\n",
    "\n",
    "# Copy the file\n",
    "shutil.copy(src, dst)\n"
   ]
  },
  {
   "cell_type": "code",
   "execution_count": 11,
   "id": "fdcc6716",
   "metadata": {
    "ExecuteTime": {
     "end_time": "2023-01-10T07:50:36.088734Z",
     "start_time": "2023-01-10T07:50:36.072191Z"
    }
   },
   "outputs": [
    {
     "data": {
      "text/plain": [
       "'C:\\\\Users\\\\gbuln\\\\Downloads\\\\01누0599\\\\01누0599_in_43f75ed2-77a7-446c-b4c3-314f73940400.jpg'"
      ]
     },
     "execution_count": 11,
     "metadata": {},
     "output_type": "execute_result"
    }
   ],
   "source": [
    "\n",
    "# 헤드라이트 크롭을 위해 원본의 사진도 옮겨준다(나중에 미리 크롭해뒀다가 db에 저장해두는게 빠를지도?)\n",
    "src = original_path\n",
    "\n",
    "# The destination directory for the copy\n",
    "dst = save_path\n",
    "\n",
    "# Copy the file\n",
    "shutil.copy(src, dst)"
   ]
  },
  {
   "cell_type": "code",
   "execution_count": 12,
   "id": "e4adb134",
   "metadata": {
    "ExecuteTime": {
     "end_time": "2023-01-10T07:50:37.114770Z",
     "start_time": "2023-01-10T07:50:36.431829Z"
    }
   },
   "outputs": [
    {
     "name": "stderr",
     "output_type": "stream",
     "text": [
      "YOLOv5  v6.1-306-gfbe67e4 Python-3.9.15 torch-1.13.1+cpu CPU\n",
      "\n",
      "Fusing layers... \n",
      "Model summary: 157 layers, 7012822 parameters, 0 gradients\n",
      "image 1/2 C:\\Users\\gbuln\\Downloads\\01누0599\\01누0599_in_43f75ed2-77a7-446c-b4c3-314f73940400.jpg: 480x640 1 headlight, Done. (0.165s)\n",
      "image 2/2 C:\\Users\\gbuln\\Downloads\\01누0599\\01버0399(01누-0599).jpg: 480x640 1 headlight, Done. (0.156s)\n",
      "Speed: 1.0ms pre-process, 160.3ms inference, 0.5ms NMS per image at shape (1, 3, 640, 640)\n",
      "Results saved to \u001b[1mruns\\detect\\exp25\u001b[0m\n",
      "2 labels saved to runs\\detect\\exp25\\labels\n"
     ]
    }
   ],
   "source": [
    "#detect 하는 코드\n",
    "detect.run(weights=\".\\\\headlights_v5.pt\", \n",
    "                source=save_path,\n",
    "                conf_thres=0.7,\n",
    "                save_crop=True,\n",
    "                save_txt=True,\n",
    "                save_conf=True)"
   ]
  },
  {
   "cell_type": "code",
   "execution_count": 26,
   "id": "8ced3aca",
   "metadata": {
    "ExecuteTime": {
     "end_time": "2023-01-10T12:49:03.836732Z",
     "start_time": "2023-01-10T12:49:03.818486Z"
    }
   },
   "outputs": [],
   "source": [
    "# 디렉토리에 있는 jpg 파일명을 한꺼번에 리스트에 추가해 주는 코드 \n",
    "# 파일 이름 확인용으로 그냥 짰다.\n",
    "\n",
    "root_path = '.\\\\runs\\\\detect\\\\exp24\\\\crops\\\\headlight\\\\'"
   ]
  },
  {
   "cell_type": "code",
   "execution_count": 16,
   "id": "ec793887",
   "metadata": {
    "ExecuteTime": {
     "end_time": "2023-01-10T07:51:50.606018Z",
     "start_time": "2023-01-10T07:51:50.588493Z"
    }
   },
   "outputs": [
    {
     "name": "stdout",
     "output_type": "stream",
     "text": [
      "['01누0599_in_43f75ed2-77a7-446c-b4c3-314f73940400', '01버0399(01누-0599)']\n"
     ]
    }
   ],
   "source": [
    "# get a list of all files in the directory\n",
    "files = os.listdir(root_path)\n",
    "\n",
    "# create an empty list to store filenames\n",
    "jpg_filenames = []\n",
    "\n",
    "# iterate over the files\n",
    "for file in files:\n",
    "  # check if the file is a JPG file\n",
    "  if file.endswith('.jpg'):\n",
    "    # remove the '.jpg' from the filename\n",
    "    filename = file[:-4]\n",
    "    # add the filename to the list\n",
    "    jpg_filenames.append(filename)\n",
    "\n",
    "# print the filenames\n",
    "print(jpg_filenames)"
   ]
  },
  {
   "cell_type": "code",
   "execution_count": 17,
   "id": "37a1bf99",
   "metadata": {
    "ExecuteTime": {
     "end_time": "2023-01-10T07:51:51.226606Z",
     "start_time": "2023-01-10T07:51:51.213229Z"
    }
   },
   "outputs": [
    {
     "name": "stdout",
     "output_type": "stream",
     "text": [
      "01누0599_in_43f75ed2-77a7-446c-b4c3-314f73940400.jpg\n",
      "01nu0599_in_43f75ed2-77a7-446c-b4c3-314f73940400.jpg\n",
      "01버0399(01누-0599).jpg\n",
      "01beo0399(01nu-0599).jpg\n"
     ]
    }
   ],
   "source": [
    "# 한글 -> 영어로 변경 \n",
    "import os\n",
    "from hangul_romanize import Transliter\n",
    "from hangul_romanize.rule import academic\n",
    "\n",
    "for file in files:\n",
    "    \n",
    "    print(file)\n",
    "    transliter = Transliter(academic)\n",
    "    trans = transliter.translit(file)\n",
    "    print(trans)\n",
    "    os.rename(root_path+file, root_path+trans)"
   ]
  },
  {
   "cell_type": "code",
   "execution_count": 24,
   "id": "b253578c",
   "metadata": {
    "ExecuteTime": {
     "end_time": "2023-01-10T12:45:21.461776Z",
     "start_time": "2023-01-10T12:45:21.294690Z"
    }
   },
   "outputs": [],
   "source": [
    "import argparse\n",
    "import cv2\n",
    "import matplotlib.cm as cm\n",
    "import torch\n",
    "from pathlib import Path\n",
    "from models.matching import Matching\n",
    "from models.utils import (AverageTimer, VideoStreamer, make_matching_plot_fast, frame2tensor)\n",
    "\n",
    "torch.set_grad_enabled(False)\n",
    "\n",
    "def superglue(input, output_dir=None, image_glob=['*.png', '*.jpg', '*.jpeg'], \n",
    "              skip=1, max_length=1000000, resize=[640, 480], \n",
    "              superglue='indoor', max_keypoints=-1, keypoint_threshold=0.005,\n",
    "              nms_radius=4, sinkhorn_iterations=20, match_threshold=0.2,\n",
    "              show_keypoints=False, no_display=False, force_cpu=False):\n",
    "    if len(resize) == 2 and resize[1] == -1:\n",
    "        resize = resize[0:1]\n",
    "    if len(resize) == 2:\n",
    "        print('Will resize to {}x{} (WxH)'.format(\n",
    "            resize[0], resize[1]))\n",
    "    elif len(resize) == 1 and resize[0] > 0:\n",
    "        print('Will resize max dimension to {}'.format(resize[0]))\n",
    "    elif len(resize) == 1:\n",
    "        print('Will not resize images')\n",
    "    else:\n",
    "        raise ValueError('Cannot specify more than two integers for --resize')\n",
    "\n",
    "    device = 'cuda' if torch.cuda.is_available() and not force_cpu else 'cpu'\n",
    "    print('Running inference on device \\\"{}\\\"'.format(device))\n",
    "    config = {\n",
    "        'superpoint': {\n",
    "            'nms_radius': nms_radius,\n",
    "            'keypoint_threshold': keypoint_threshold,\n",
    "            'max_keypoints': max_keypoints\n",
    "        },\n",
    "        'superglue': {\n",
    "            'weights': superglue,\n",
    "            'sinkhorn_iterations': sinkhorn_iterations,\n",
    "            'match_threshold': match_threshold,\n",
    "        }\n",
    "    }\n",
    "    matching = Matching(config).eval().to(device)\n",
    "    keys = ['keypoints', 'scores', 'descriptors']\n",
    "\n",
    "    vs = VideoStreamer(input, resize, skip,\n",
    "                       image_glob, max_length)\n",
    "    frame, ret = vs.next_frame()\n",
    "    assert ret, 'Error when reading the first frame (try different --input?)'\n",
    "\n",
    "    frame_tensor = frame2tensor(frame, device)\n",
    "    last_data = matching.superpoint({'image': frame_tensor})\n",
    "    last_data = {k+'0': last_data[k] for k in keys}\n",
    "    last_data['image0'] = frame_tensor\n",
    "    last_frame = frame\n",
    "    last_image_id = 0\n",
    "\n",
    "    if output_dir is not None:\n",
    "        print('==> Will write outputs to {}'.format(output_dir))\n",
    "        Path(output_dir).mkdir(exist_ok=True)\n",
    "\n",
    "    # Create a window to display the demo.\n",
    "    if not no_display:\n",
    "        cv2.namedWindow('SuperGlue matches', cv2.WINDOW_NORMAL)\n",
    "        cv2.resizeWindow('SuperGlue matches', 640*2, 480)\n",
    "    else:\n",
    "        print('Skipping visualization, will not show a GUI.')\n",
    "\n",
    "    # Print the keyboard help menu.\n",
    "    print('==> Keyboard control:\\n'\n",
    "          '\\tn: select the current frame as the anchor\\n'\n",
    "          '\\te/r: increase/decrease the keypoint confidence threshold\\n'\n",
    "          '\\td/f: increase/decrease the match filtering threshold\\n'\n",
    "          '\\tk: toggle the visualization of keypoints\\n'\n",
    "          '\\tq: quit')\n",
    "\n",
    "    timer = AverageTimer()\n",
    "\n",
    "    while True:\n",
    "        frame, ret = vs.next_frame()\n",
    "        if not ret:\n",
    "            print('Finished superglue function')\n",
    "            break\n",
    "        timer.update('data')\n",
    "        stem0, stem1 = last_image_id, vs.i - 1\n",
    "\n",
    "        frame_tensor = frame2tensor(frame, device)\n",
    "        pred = matching({**last_data, 'image1': frame_tensor})\n",
    "        kpts0 = last_data['keypoints0'][0].cpu().numpy()\n",
    "        kpts1 = pred['keypoints1'][0].cpu().numpy()\n",
    "        matches = pred['matches0'][0].cpu().numpy()\n",
    "        confidence = pred['matching_scores0'][0].cpu().numpy()\n",
    "        timer.update('forward')\n",
    "\n",
    "        valid = matches > -1\n",
    "        mkpts0 = kpts0[valid]\n",
    "        mkpts1 = kpts1[matches[valid]]\n",
    "        color = cm.jet(confidence[valid])\n",
    "        global points\n",
    "        text = [\n",
    "            'SuperGlue',\n",
    "            'Keypoints: {}:{}'.format(len(kpts0), len(kpts1)),\n",
    "            'Matches: {}'.format(len(mkpts0))\n",
    "        ]\n",
    "        # Open the file in write mode\n",
    "        with open(output_dir + '/matches.txt', 'w') as f:\n",
    "            # Write the string to the file\n",
    "            f.write(str(len(mkpts0)))\n",
    "        points = len(mkpts0)\n",
    "        print(len(mkpts0))\n",
    "\n",
    "        k_thresh = matching.superpoint.config['keypoint_threshold']\n",
    "        m_thresh = matching.superglue.config['match_threshold']\n",
    "        small_text = [\n",
    "            'Keypoint Threshold: {:.4f}'.format(k_thresh),\n",
    "            'Match Threshold: {:.2f}'.format(m_thresh),\n",
    "            'Image Pair: {:06}:{:06}'.format(stem0, stem1),\n",
    "        ]\n",
    "        out = make_matching_plot_fast(\n",
    "            last_frame, frame, kpts0, kpts1, mkpts0, mkpts1, color, text,\n",
    "            path=None, show_keypoints=show_keypoints, small_text=small_text)\n",
    "\n",
    "        if not no_display:\n",
    "            cv2.imshow('SuperGlue matches', out)\n",
    "            key = chr(cv2.waitKey(1) & 0xFF)\n",
    "            if key == 'q':\n",
    "                vs.cleanup()\n",
    "                print('Exiting (via q) demo_superglue.py')\n",
    "                break\n",
    "            elif key == 'n':  # set the current frame as anchor\n",
    "                last_data = {k+'0': pred[k+'1'] for k in keys}\n",
    "                last_data['image0'] = frame_tensor\n",
    "                last_frame = frame\n",
    "                last_image_id = (vs.i - 1)\n",
    "            elif key in ['e', 'r']:\n",
    "                # Increase/decrease keypoint threshold by 10% each keypress.\n",
    "                d = 0.1 * (-1 if key == 'e' else 1)\n",
    "                matching.superpoint.config['keypoint_threshold'] = min(max(\n",
    "                    0.0001, matching.superpoint.config['keypoint_threshold']*(1+d)), 1)\n",
    "                print('\\nChanged the keypoint threshold to {:.4f}'.format(\n",
    "                    matching.superpoint.config['keypoint_threshold']))\n",
    "            elif key in ['d', 'f']:\n",
    "                # Increase/decrease match threshold by 0.05 each keypress.\n",
    "                d = 0.05 * (-1 if key == 'd' else 1)\n",
    "                matching.superglue.config['match_threshold'] = min(max(\n",
    "                    0.05, matching.superglue.config['match_threshold']+d), .95)\n",
    "                print('\\nChanged the match threshold to {:.2f}'.format(\n",
    "                    matching.superglue.config['match_threshold']))\n",
    "            elif key == 'k':\n",
    "                show_keypoints = not show_keypoints\n",
    "\n",
    "        timer.update('viz')\n",
    "        timer.print()\n",
    "\n",
    "        if output_dir is not None:\n",
    "            #stem = 'matches_{:06}_{:06}'.format(last_image_id, vs.i-1)\n",
    "            stem = 'matches_{:06}_{:06}'.format(stem0, stem1)\n",
    "            out_file = str(Path(output_dir, stem + '.png'))\n",
    "            print('\\nWriting image to {}'.format(out_file))\n",
    "            cv2.imwrite(out_file, out)\n",
    "            \n",
    "    vs.cleanup()\n",
    "    return points"
   ]
  },
  {
   "cell_type": "code",
   "execution_count": 27,
   "id": "b3a0c1fa",
   "metadata": {
    "ExecuteTime": {
     "end_time": "2023-01-10T12:49:10.181628Z",
     "start_time": "2023-01-10T12:49:09.624621Z"
    }
   },
   "outputs": [
    {
     "name": "stdout",
     "output_type": "stream",
     "text": [
      "Will resize to 320x240 (WxH)\n",
      "Running inference on device \"cpu\"\n",
      "Loaded SuperPoint model\n",
      "Loaded SuperGlue model (\"indoor\" weights)\n",
      "==> Processing image directory input: .\\runs\\detect\\exp24\\crops\\headlight\\\n",
      "==> Will write outputs to C:\\Users\\gbuln\\Downloads\\01누0599\n",
      "Skipping visualization, will not show a GUI.\n",
      "==> Keyboard control:\n",
      "\tn: select the current frame as the anchor\n",
      "\te/r: increase/decrease the keypoint confidence threshold\n",
      "\td/f: increase/decrease the match filtering threshold\n",
      "\tk: toggle the visualization of keypoints\n",
      "\tq: quit\n",
      "19\n",
      "[Timer] data=0.005 forward=0.201 viz=0.017 total=0.223 sec {4.5 FPS} \n",
      "Writing image to C:\\Users\\gbuln\\Downloads\\01누0599\\matches_000000_000001.png\n",
      "Finished demo_superglue.py\n",
      "19\n"
     ]
    }
   ],
   "source": [
    "a = superglue(root_path, output_dir=save_path, image_glob=['*.png', '*.jpg', '*.jpeg'], \n",
    "              skip=1, max_length=1000000, resize=[320, 240], \n",
    "              superglue='indoor', max_keypoints=2048, keypoint_threshold=0.1,\n",
    "              nms_radius=4, sinkhorn_iterations=20, match_threshold=0.3,\n",
    "              show_keypoints=False, no_display=True, force_cpu=False)\n",
    "\n",
    "print(a)"
   ]
  },
  {
   "cell_type": "code",
   "execution_count": 28,
   "id": "7f78c8d7",
   "metadata": {
    "ExecuteTime": {
     "end_time": "2023-01-10T12:49:53.235824Z",
     "start_time": "2023-01-10T12:49:53.220099Z"
    }
   },
   "outputs": [
    {
     "name": "stdout",
     "output_type": "stream",
     "text": [
      "faked\n"
     ]
    }
   ],
   "source": [
    "collection = db[\"InAndOut\"]\n",
    "if a < 20:\n",
    "    collection.update_one({\"accessid\": 5}, {\"$set\": {\"faked\": True}})\n",
    "    print(\"faked\")\n",
    "else:\n",
    "    pass"
   ]
  },
  {
   "cell_type": "code",
   "execution_count": 22,
   "id": "1b995b81",
   "metadata": {
    "ExecuteTime": {
     "end_time": "2023-01-10T07:52:16.751014Z",
     "start_time": "2023-01-10T07:52:16.740481Z"
    }
   },
   "outputs": [
    {
     "name": "stdout",
     "output_type": "stream",
     "text": [
      "{'_id': ObjectId('63bc08a1ce004124447a391e'), 'accessid': 1, 'intime': '2023-09-27 22:22:22', 'outtime': '', 'carnum': '01누0599', 'faked': True, 'imageURL': 'C:\\\\Users\\\\gbuln\\\\Downloads\\\\fakenumber\\\\01버0399(01누-0599).jpg'}\n",
      "{'_id': ObjectId('63bcbc8b8d9eef5f7166dca0'), 'accessid': 2, 'intime': '2023-09-27 23:22:22', 'outtime': '', 'carnum': '01누0599', 'faked': False, 'imageURL': '01누0599_in_9d6eda83-f0aa-4d55-9595-34e1ff43f4c1.jpg'}\n",
      "{'_id': ObjectId('63bcbd728d9eef5f7166dca3'), 'accessid': 3, 'intime': '2023-09-27 23:22:22', 'outtime': '', 'carnum': '01누0599', 'faked': False, 'imageURL': 'C:\\\\Users\\\\gbuln\\\\Downloads\\\\fakenumber\\\\01누0599_in_9d6eda83-f0aa-4d55-9595-34e1ff43f4c1.jpg'}\n",
      "{'_id': ObjectId('63bd034fafe5b30dded99a92'), 'accessid': 5, 'intime': '2023-09-27 22:22:22', 'outtime': '', 'carnum': '01누0599', 'faked': True, 'imageURL': 'C:\\\\Users\\\\gbuln\\\\Downloads\\\\fakenumber\\\\01버0399(01누-0599).jpg'}\n",
      "{'_id': ObjectId('63bd189436895d8b7c26488d'), 'accessid': 5, 'intime': '2023-09-27 22:22:22', 'outtime': '', 'carnum': '01누0599', 'faked': False, 'imageURL': 'C:\\\\Users\\\\gbuln\\\\Downloads\\\\fakenumber\\\\01버0399(01누-0599).jpg'}\n",
      "{'_id': ObjectId('63bd18c650cb5565068a5b53'), 'accessid': 5, 'intime': '2023-09-27 22:22:22', 'outtime': '', 'carnum': '01누0599', 'faked': False, 'imageURL': 'C:\\\\Users\\\\gbuln\\\\Downloads\\\\fakenumber\\\\01버0399(01누-0599).jpg'}\n",
      "{'_id': ObjectId('63bd18ca50cb5565068a5b54'), 'accessid': 6, 'intime': '2023-09-27 22:22:22', 'outtime': '', 'carnum': '01누0599', 'faked': False, 'imageURL': 'C:\\\\Users\\\\gbuln\\\\Downloads\\\\fakenumber\\\\01버0399(01누-0599).jpg'}\n"
     ]
    }
   ],
   "source": [
    "cursor = collection.find({})\n",
    "for document in cursor:\n",
    "    print(document)"
   ]
  },
  {
   "cell_type": "code",
   "execution_count": 23,
   "id": "55d4a0c1",
   "metadata": {
    "ExecuteTime": {
     "end_time": "2023-01-10T07:52:26.460424Z",
     "start_time": "2023-01-10T07:52:26.452625Z"
    }
   },
   "outputs": [],
   "source": [
    "shutil.rmtree(root_path)\n",
    "shutil.rmtree(save_path)"
   ]
  },
  {
   "cell_type": "code",
   "execution_count": null,
   "id": "33413f7c",
   "metadata": {},
   "outputs": [],
   "source": []
  }
 ],
 "metadata": {
  "kernelspec": {
   "display_name": "Python 3 (ipykernel)",
   "language": "python",
   "name": "python3"
  },
  "language_info": {
   "codemirror_mode": {
    "name": "ipython",
    "version": 3
   },
   "file_extension": ".py",
   "mimetype": "text/x-python",
   "name": "python",
   "nbconvert_exporter": "python",
   "pygments_lexer": "ipython3",
   "version": "3.9.13"
  }
 },
 "nbformat": 4,
 "nbformat_minor": 5
}
